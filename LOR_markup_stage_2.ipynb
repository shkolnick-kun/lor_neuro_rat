{
 "cells": [
  {
   "cell_type": "markdown",
   "metadata": {},
   "source": [
    "    This file is a part of the lor_neuro_rat project.\n",
    "    Copyright (C) 2019 anonimous\n",
    "\n",
    "    This program is free software: you can redistribute it and/or modify\n",
    "    it under the terms of the GNU General Public License as published by\n",
    "    the Free Software Foundation, either version 3 of the License, or\n",
    "    (at your option) any later version.\n",
    "\n",
    "    This program is distributed in the hope that it will be useful,\n",
    "    but WITHOUT ANY WARRANTY; without even the implied warranty of\n",
    "    MERCHANTABILITY or FITNESS FOR A PARTICULAR PURPOSE.  See the\n",
    "    GNU General Public License for more details.\n",
    "\n",
    "    You should have received a copy of the GNU General Public License\n",
    "    along with this program.  If not, see <http://www.gnu.org/licenses/>.\n",
    "\n",
    "    Please contact with me by E-mail: shkolnick.kun@gmail.com"
   ]
  },
  {
   "cell_type": "markdown",
   "metadata": {},
   "source": [
    "# Подготовка датасета для бинарного классификатора\n",
    "Часть 2"
   ]
  },
  {
   "cell_type": "code",
   "execution_count": null,
   "metadata": {},
   "outputs": [],
   "source": [
    "import pandas as pd"
   ]
  },
  {
   "cell_type": "code",
   "execution_count": null,
   "metadata": {},
   "outputs": [],
   "source": [
    "#Загрузка\n",
    "msg_of_interest = pd.read_pickle('data/MsgOfInterestDataFrame.pkl')\n",
    "msg_of_interest.head()"
   ]
  },
  {
   "cell_type": "code",
   "execution_count": null,
   "metadata": {
    "scrolled": true
   },
   "outputs": [],
   "source": [
    "reason_lut      = pd.read_csv('data/markup/reasons_lut.csv', sep = ',')\n",
    "print(reason_lut.head())\n",
    "reason_lut = dict(zip(list(reason_lut['Reason'].values), list(reason_lut['Class1'].values)))\n",
    "print(reason_lut[' ЯННП (-7)'])"
   ]
  },
  {
   "cell_type": "code",
   "execution_count": null,
   "metadata": {},
   "outputs": [],
   "source": [
    "class_lut       = pd.read_csv('data/markup/class_lut.csv', sep = ',')\n",
    "print(class_lut.head())\n",
    "\n",
    "class_lut = dict(zip(list(class_lut['Class'].values), list(class_lut['Use'].values)))\n",
    "print(class_lut[15])"
   ]
  },
  {
   "cell_type": "code",
   "execution_count": null,
   "metadata": {
    "scrolled": true
   },
   "outputs": [],
   "source": [
    "import re\n",
    "msg_of_interest['Class'] = msg_of_interest['Reason'].apply(lambda x: reason_lut[re.sub(r',',';',x)])\n",
    "msg_of_interest['Use']   = msg_of_interest['Class'].apply(lambda x: class_lut[x])\n",
    "msg_of_interest.tail()"
   ]
  },
  {
   "cell_type": "code",
   "execution_count": null,
   "metadata": {},
   "outputs": [],
   "source": [
    "positive = msg_of_interest[msg_of_interest['Use'] == 1].copy().reset_index(inplace=False, drop=True)\n",
    "positive.to_pickle('data/Positive.pkl')"
   ]
  },
  {
   "cell_type": "code",
   "execution_count": null,
   "metadata": {},
   "outputs": [],
   "source": [
    "positive.describe()\n"
   ]
  },
  {
   "cell_type": "code",
   "execution_count": null,
   "metadata": {},
   "outputs": [],
   "source": [
    "positive.head()"
   ]
  },
  {
   "cell_type": "code",
   "execution_count": null,
   "metadata": {
    "scrolled": true
   },
   "outputs": [],
   "source": [
    "topics_of_interest = []\n",
    "\n",
    "for t in list(positive['TopId'].values):\n",
    "    if t not in topics_of_interest:\n",
    "        topics_of_interest.append(t)\n",
    "\n",
    "print('Промодерировано топиков: ', len(topics_of_interest))"
   ]
  },
  {
   "cell_type": "code",
   "execution_count": null,
   "metadata": {},
   "outputs": [],
   "source": [
    "df = pd.read_pickle('data/all_data_as_dataframe.pkl')\n",
    "messages_of_inerest = df[df['TopId'].apply(lambda x: x in topics_of_interest)]"
   ]
  },
  {
   "cell_type": "code",
   "execution_count": null,
   "metadata": {},
   "outputs": [],
   "source": [
    "print(len(df))\n",
    "print(len(messages_of_inerest))"
   ]
  },
  {
   "cell_type": "code",
   "execution_count": null,
   "metadata": {},
   "outputs": [],
   "source": [
    "negative = messages_of_inerest[messages_of_inerest['DelReason'] == '']\n",
    "#Интересуют только комментарии\n",
    "negative = negative[negative['MsgId'].apply(lambda x: 'topic-' not in x)]\n",
    "negative.head()"
   ]
  },
  {
   "cell_type": "code",
   "execution_count": null,
   "metadata": {},
   "outputs": [],
   "source": [
    "print(len(negative))"
   ]
  },
  {
   "cell_type": "code",
   "execution_count": null,
   "metadata": {},
   "outputs": [],
   "source": [
    "negative = negative.copy().reset_index(inplace=False, drop=True)\n",
    "negative['Score'] = [0]*len(negative)\n",
    "negative['Class'] = [0]*len(negative)\n",
    "negative['Use']   = [0]*len(negative)\n",
    "negative.to_pickle('data/Negative.pkl')"
   ]
  },
  {
   "cell_type": "code",
   "execution_count": null,
   "metadata": {},
   "outputs": [],
   "source": [
    "negative.head()"
   ]
  },
  {
   "cell_type": "code",
   "execution_count": null,
   "metadata": {},
   "outputs": [],
   "source": [
    "from sklearn.utils import shuffle\n",
    "negative = shuffle(negative)"
   ]
  },
  {
   "cell_type": "code",
   "execution_count": null,
   "metadata": {},
   "outputs": [],
   "source": [
    "dataset = pd.concat([positive, negative[0:len(positive)*1]], ignore_index=True, copy=True, sort=False)\n",
    "#dataset = pd.concat([positive, negative], ignore_index=True, copy=True, sort=False)\n",
    "dataset.describe()"
   ]
  },
  {
   "cell_type": "code",
   "execution_count": null,
   "metadata": {},
   "outputs": [],
   "source": [
    "dataset.to_pickle('data/Dataset1.pkl')"
   ]
  },
  {
   "cell_type": "code",
   "execution_count": null,
   "metadata": {},
   "outputs": [],
   "source": []
  }
 ],
 "metadata": {
  "kernelspec": {
   "display_name": "Python 3",
   "language": "python",
   "name": "python3"
  },
  "language_info": {
   "codemirror_mode": {
    "name": "ipython",
    "version": 3
   },
   "file_extension": ".py",
   "mimetype": "text/x-python",
   "name": "python",
   "nbconvert_exporter": "python",
   "pygments_lexer": "ipython3",
   "version": "3.6.8"
  }
 },
 "nbformat": 4,
 "nbformat_minor": 2
}
