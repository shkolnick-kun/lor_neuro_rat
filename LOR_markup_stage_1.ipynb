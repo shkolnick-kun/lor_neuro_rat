{
 "cells": [
  {
   "cell_type": "markdown",
   "metadata": {},
   "source": [
    "    This file is a part of the lor_neuro_rat project.\n",
    "    Copyright (C) 2019 anonimous\n",
    "\n",
    "    This program is free software: you can redistribute it and/or modify\n",
    "    it under the terms of the GNU General Public License as published by\n",
    "    the Free Software Foundation, either version 3 of the License, or\n",
    "    (at your option) any later version.\n",
    "\n",
    "    This program is distributed in the hope that it will be useful,\n",
    "    but WITHOUT ANY WARRANTY; without even the implied warranty of\n",
    "    MERCHANTABILITY or FITNESS FOR A PARTICULAR PURPOSE.  See the\n",
    "    GNU General Public License for more details.\n",
    "\n",
    "    You should have received a copy of the GNU General Public License\n",
    "    along with this program.  If not, see <http://www.gnu.org/licenses/>.\n",
    "\n",
    "    Please contact with me by E-mail: shkolnick.kun@gmail.com"
   ]
  },
  {
   "cell_type": "markdown",
   "metadata": {},
   "source": [
    "# Подготовка удаленных сообщений и причин удаления для разметки."
   ]
  },
  {
   "cell_type": "code",
   "execution_count": 1,
   "metadata": {},
   "outputs": [
    {
     "name": "stdout",
     "output_type": "stream",
     "text": [
      "                         TopId             MsgId                     Creator  \\\n",
      "0  /forum/development/11896689  comment-11896982  /people/bookman900/profile   \n",
      "1        /forum/talks/12648516  comment-12649855     /people/mandala/profile   \n",
      "2      /forum/desktop/11530019  comment-11530154       /people/zzdnx/profile   \n",
      "3      /forum/desktop/12261887  comment-12281227       /people/zzdnx/profile   \n",
      "4      /forum/desktop/11018384  comment-11025530       /people/zzdnx/profile   \n",
      "\n",
      "                            Time                                   SrcLink  \\\n",
      "0  2015-08-27T12:33:42.308+03:00  /forum/development/11896689?cid=11896705   \n",
      "1  2016-06-07T20:01:40.393+03:00        /forum/talks/12648516?cid=12649823   \n",
      "2  2015-04-20T16:37:05.253+03:00      /forum/desktop/11530019?cid=11530137   \n",
      "3  2016-01-18T16:18:38.985+03:00      /forum/desktop/12261887?cid=12281126   \n",
      "4  2014-11-11T15:22:21.668+03:00      /forum/desktop/11018384?cid=11025521   \n",
      "\n",
      "                                           DelReason  \\\n",
      "0               Сообщение удалено. Причина: 4.1, 5.2   \n",
      "1  Сообщение удалено по причине Национальные/рели...   \n",
      "2    Сообщение удалено zzdnx по причине опечатки (0)   \n",
      "3    Сообщение удалено zzdnx по причине опечатка (0)   \n",
      "4     Сообщение удалено zzdnx по причине не туда (0)   \n",
      "\n",
      "                                                 Txt Code  \\\n",
      "0                                       [Учетверяю!]   []   \n",
      "1  [Уровень развития цивилизации всего лишь. На н...   []   \n",
      "2  [Не стоит благодарности. Решение не моё, да и ...   []   \n",
      "3  [А у заббикса есть флог \"кооректное завершение...   []   \n",
      "4  [dhcp-client releas/renew — уже было?, Было. С...   []   \n",
      "\n",
      "                                   Quotes  \n",
      "0                                      []  \n",
      "1                                      []  \n",
      "2                                      []  \n",
      "3                                      []  \n",
      "4  [dhcp-client releas/renew — уже было?]  \n"
     ]
    }
   ],
   "source": [
    "import pandas as pd\n",
    "#Загрузка\n",
    "df = pd.read_pickle('data/all_data_as_dataframe.pkl')\n",
    "#Сортировка\n",
    "df.sort_values(by=['DelReason'], inplace=True, ascending=False)\n",
    "df.reset_index(inplace=True, drop=True)\n",
    "\n",
    "print(df.head())"
   ]
  },
  {
   "cell_type": "code",
   "execution_count": 2,
   "metadata": {},
   "outputs": [],
   "source": [
    "import re\n",
    "#Удаленные сообщения\n",
    "DeletedMsg = df[df['DelReason'] != '']\n",
    "#Создатель\n",
    "Creator = DeletedMsg['Creator'].apply(lambda x: x.split('/')[2] if x else x)\n",
    "#Кто удалил\n",
    "DeletedBy = DeletedMsg['DelReason'].apply(lambda x: re.sub('Сообщение удалено ', '', x).split()[0] if x else '')\n",
    "#Удаленные модераторами\n",
    "DeletedByMod = DeletedMsg[Creator != DeletedBy]"
   ]
  },
  {
   "cell_type": "code",
   "execution_count": 3,
   "metadata": {},
   "outputs": [
    {
     "data": {
      "text/html": [
       "<div>\n",
       "<style scoped>\n",
       "    .dataframe tbody tr th:only-of-type {\n",
       "        vertical-align: middle;\n",
       "    }\n",
       "\n",
       "    .dataframe tbody tr th {\n",
       "        vertical-align: top;\n",
       "    }\n",
       "\n",
       "    .dataframe thead th {\n",
       "        text-align: right;\n",
       "    }\n",
       "</style>\n",
       "<table border=\"1\" class=\"dataframe\">\n",
       "  <thead>\n",
       "    <tr style=\"text-align: right;\">\n",
       "      <th></th>\n",
       "      <th>TopId</th>\n",
       "      <th>MsgId</th>\n",
       "      <th>Creator</th>\n",
       "      <th>Time</th>\n",
       "      <th>SrcLink</th>\n",
       "      <th>DelReason</th>\n",
       "      <th>Txt</th>\n",
       "      <th>Code</th>\n",
       "      <th>Quotes</th>\n",
       "    </tr>\n",
       "  </thead>\n",
       "  <tbody>\n",
       "    <tr>\n",
       "      <th>0</th>\n",
       "      <td>/forum/development/11896689</td>\n",
       "      <td>comment-11896982</td>\n",
       "      <td>/people/bookman900/profile</td>\n",
       "      <td>2015-08-27T12:33:42.308+03:00</td>\n",
       "      <td>/forum/development/11896689?cid=11896705</td>\n",
       "      <td>Сообщение удалено. Причина: 4.1, 5.2</td>\n",
       "      <td>[Учетверяю!]</td>\n",
       "      <td>[]</td>\n",
       "      <td>[]</td>\n",
       "    </tr>\n",
       "    <tr>\n",
       "      <th>1</th>\n",
       "      <td>/forum/talks/12648516</td>\n",
       "      <td>comment-12649855</td>\n",
       "      <td>/people/mandala/profile</td>\n",
       "      <td>2016-06-07T20:01:40.393+03:00</td>\n",
       "      <td>/forum/talks/12648516?cid=12649823</td>\n",
       "      <td>Сообщение удалено по причине Национальные/рели...</td>\n",
       "      <td>[Уровень развития цивилизации всего лишь. На н...</td>\n",
       "      <td>[]</td>\n",
       "      <td>[]</td>\n",
       "    </tr>\n",
       "    <tr>\n",
       "      <th>539</th>\n",
       "      <td>/forum/development/12311646</td>\n",
       "      <td>comment-12311699</td>\n",
       "      <td></td>\n",
       "      <td>2016-01-29T17:14:41.148+03:00</td>\n",
       "      <td>/forum/development/12311646?cid=12311687</td>\n",
       "      <td>Сообщение удалено yangramovich по причине Уже ...</td>\n",
       "      <td>[Ок,и что делать?]</td>\n",
       "      <td>[]</td>\n",
       "      <td>[]</td>\n",
       "    </tr>\n",
       "    <tr>\n",
       "      <th>540</th>\n",
       "      <td>/forum/development/12311646</td>\n",
       "      <td>comment-12312131</td>\n",
       "      <td></td>\n",
       "      <td>2016-01-29T19:30:55.023+03:00</td>\n",
       "      <td>/forum/development/12311646?cid=12311871</td>\n",
       "      <td>Сообщение удалено yangramovich по причине Ошиб...</td>\n",
       "      <td>[Попробовал.На русском выводятся квадраты с чи...</td>\n",
       "      <td>[]</td>\n",
       "      <td>[]</td>\n",
       "    </tr>\n",
       "    <tr>\n",
       "      <th>541</th>\n",
       "      <td>/forum/games/12223342</td>\n",
       "      <td>comment-12224327</td>\n",
       "      <td></td>\n",
       "      <td>2015-12-26T12:40:58.952+03:00</td>\n",
       "      <td></td>\n",
       "      <td>Сообщение удалено yangramovich по причине Не д...</td>\n",
       "      <td>[UPD1(Решение проблемы):\\n, Ставим блоб для ви...</td>\n",
       "      <td>[]</td>\n",
       "      <td>[]</td>\n",
       "    </tr>\n",
       "  </tbody>\n",
       "</table>\n",
       "</div>"
      ],
      "text/plain": [
       "                           TopId             MsgId  \\\n",
       "0    /forum/development/11896689  comment-11896982   \n",
       "1          /forum/talks/12648516  comment-12649855   \n",
       "539  /forum/development/12311646  comment-12311699   \n",
       "540  /forum/development/12311646  comment-12312131   \n",
       "541        /forum/games/12223342  comment-12224327   \n",
       "\n",
       "                        Creator                           Time  \\\n",
       "0    /people/bookman900/profile  2015-08-27T12:33:42.308+03:00   \n",
       "1       /people/mandala/profile  2016-06-07T20:01:40.393+03:00   \n",
       "539                              2016-01-29T17:14:41.148+03:00   \n",
       "540                              2016-01-29T19:30:55.023+03:00   \n",
       "541                              2015-12-26T12:40:58.952+03:00   \n",
       "\n",
       "                                      SrcLink  \\\n",
       "0    /forum/development/11896689?cid=11896705   \n",
       "1          /forum/talks/12648516?cid=12649823   \n",
       "539  /forum/development/12311646?cid=12311687   \n",
       "540  /forum/development/12311646?cid=12311871   \n",
       "541                                             \n",
       "\n",
       "                                             DelReason  \\\n",
       "0                 Сообщение удалено. Причина: 4.1, 5.2   \n",
       "1    Сообщение удалено по причине Национальные/рели...   \n",
       "539  Сообщение удалено yangramovich по причине Уже ...   \n",
       "540  Сообщение удалено yangramovich по причине Ошиб...   \n",
       "541  Сообщение удалено yangramovich по причине Не д...   \n",
       "\n",
       "                                                   Txt Code Quotes  \n",
       "0                                         [Учетверяю!]   []     []  \n",
       "1    [Уровень развития цивилизации всего лишь. На н...   []     []  \n",
       "539                                 [Ок,и что делать?]   []     []  \n",
       "540  [Попробовал.На русском выводятся квадраты с чи...   []     []  \n",
       "541  [UPD1(Решение проблемы):\\n, Ставим блоб для ви...   []     []  "
      ]
     },
     "execution_count": 3,
     "metadata": {},
     "output_type": "execute_result"
    }
   ],
   "source": [
    "DeletedByMod.head()\n"
   ]
  },
  {
   "cell_type": "code",
   "execution_count": 4,
   "metadata": {},
   "outputs": [],
   "source": [
    "MsgOfInterest = DeletedByMod.copy()"
   ]
  },
  {
   "cell_type": "code",
   "execution_count": 5,
   "metadata": {},
   "outputs": [
    {
     "name": "stdout",
     "output_type": "stream",
     "text": [
      "91311\n",
      "Сообщение удалено. Причина: 4.1, 5.2\n"
     ]
    }
   ],
   "source": [
    "print(len(MsgOfInterest))\n",
    "for r in MsgOfInterest['DelReason']:\n",
    "    if 'по причине' not in r:\n",
    "        print(r)"
   ]
  },
  {
   "cell_type": "markdown",
   "metadata": {},
   "source": [
    "Всего одно сообщение, ну и ладно"
   ]
  },
  {
   "cell_type": "code",
   "execution_count": 6,
   "metadata": {},
   "outputs": [],
   "source": [
    "MsgOfInterest = MsgOfInterest[MsgOfInterest['DelReason'].apply(lambda x: 'по причине' in x)].copy()"
   ]
  },
  {
   "cell_type": "code",
   "execution_count": 7,
   "metadata": {},
   "outputs": [],
   "source": [
    "Reason = MsgOfInterest['DelReason'].apply(lambda x: x.split('по причине')[1])"
   ]
  },
  {
   "cell_type": "code",
   "execution_count": 8,
   "metadata": {},
   "outputs": [
    {
     "name": "stdout",
     "output_type": "stream",
     "text": [
      "list index out of range\n",
      "Сообщение удалено по причине Национальные/религиозные/политические споры.\n"
     ]
    }
   ],
   "source": [
    "for r in MsgOfInterest['DelReason']:\n",
    "    try:\n",
    "        a = r.split('по причине')[1].split()[-1].split('(')[1]\n",
    "    except Exception as e:\n",
    "        print(e)\n",
    "        print(r)"
   ]
  },
  {
   "cell_type": "code",
   "execution_count": 9,
   "metadata": {},
   "outputs": [
    {
     "name": "stdout",
     "output_type": "stream",
     "text": [
      "list index out of range\n",
      "Сообщение удалено по причине Национальные/религиозные/политические споры.\n"
     ]
    }
   ],
   "source": [
    "def get_score(x):\n",
    "    try:\n",
    "        score = int(x.split('по причине')[1].split()[-1].split('(')[1].split(')')[0])\n",
    "    except Exception as e:\n",
    "        print(e)\n",
    "        print(x)\n",
    "        score = 0\n",
    "    return score\n",
    "\n",
    "Score = MsgOfInterest['DelReason'].apply(get_score)"
   ]
  },
  {
   "cell_type": "code",
   "execution_count": 15,
   "metadata": {},
   "outputs": [],
   "source": [
    "#Описания причин удаления, дальше будем размечать lookup table вручную\n",
    "import re\n",
    "\"\"\"\n",
    "reasons = ['7.1 Ответ на некорректное сообщение',\n",
    "           '3.2 Неверная кодировка',\n",
    "           '3.3 Некорректное форматирование',\n",
    "           '3.4 Пустое сообщение',\n",
    "           '4.2 Вызывающе неверная информация']\n",
    "\"\"\"\n",
    "\n",
    "reasons = []\n",
    "for r in Reason:\n",
    "    r = re.sub(r',', ';', r)\n",
    "    if r not in reasons:\n",
    "        reasons.append(r)\n",
    "reasons.sort()\n",
    "\n",
    "reason_lut = pd.DataFrame({'Reason':reasons, 'Class':[0]*len(reasons)})\n",
    "reason_lut.to_csv('data/markup/reasons_lut.csv', index=False, sep=',')"
   ]
  },
  {
   "cell_type": "code",
   "execution_count": 16,
   "metadata": {},
   "outputs": [
    {
     "name": "stdout",
     "output_type": "stream",
     "text": [
      "91310\n",
      "91310\n",
      "91310\n"
     ]
    }
   ],
   "source": [
    "print(len(MsgOfInterest))\n",
    "print(len(Reason))\n",
    "print(len(Score))"
   ]
  },
  {
   "cell_type": "code",
   "execution_count": 17,
   "metadata": {},
   "outputs": [],
   "source": [
    "MsgOfInterest['Reason'] = Reason.values\n",
    "MsgOfInterest['Score'] = Score.values\n",
    "MsgOfInterest.to_pickle('data/MsgOfInterestDataFrame.pkl')"
   ]
  },
  {
   "cell_type": "code",
   "execution_count": null,
   "metadata": {},
   "outputs": [],
   "source": []
  }
 ],
 "metadata": {
  "kernelspec": {
   "display_name": "Python 3",
   "language": "python",
   "name": "python3"
  },
  "language_info": {
   "codemirror_mode": {
    "name": "ipython",
    "version": 3
   },
   "file_extension": ".py",
   "mimetype": "text/x-python",
   "name": "python",
   "nbconvert_exporter": "python",
   "pygments_lexer": "ipython3",
   "version": "3.6.8"
  }
 },
 "nbformat": 4,
 "nbformat_minor": 2
}
