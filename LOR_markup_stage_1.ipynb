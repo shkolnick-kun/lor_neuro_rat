{
 "cells": [
  {
   "cell_type": "markdown",
   "metadata": {},
   "source": [
    "    This file is a part of the lor_neuro_rat project.\n",
    "    Copyright (C) 2019 anonimous\n",
    "\n",
    "    This program is free software: you can redistribute it and/or modify\n",
    "    it under the terms of the GNU General Public License as published by\n",
    "    the Free Software Foundation, either version 3 of the License, or\n",
    "    (at your option) any later version.\n",
    "\n",
    "    This program is distributed in the hope that it will be useful,\n",
    "    but WITHOUT ANY WARRANTY; without even the implied warranty of\n",
    "    MERCHANTABILITY or FITNESS FOR A PARTICULAR PURPOSE.  See the\n",
    "    GNU General Public License for more details.\n",
    "\n",
    "    You should have received a copy of the GNU General Public License\n",
    "    along with this program.  If not, see <http://www.gnu.org/licenses/>.\n",
    "\n",
    "    Please contact with me by E-mail: shkolnick.kun@gmail.com"
   ]
  },
  {
   "cell_type": "markdown",
   "metadata": {},
   "source": [
    "# Подготовка удаленных сообщений и причин удаления для разметки."
   ]
  },
  {
   "cell_type": "code",
   "execution_count": null,
   "metadata": {},
   "outputs": [],
   "source": [
    "import pandas as pd\n",
    "#Загрузка\n",
    "df = pd.read_pickle('data/all_data_as_dataframe.pkl')\n",
    "#Сортировка\n",
    "df.sort_values(by=['DelReason'], inplace=True, ascending=False)\n",
    "df.reset_index(inplace=True, drop=True)\n",
    "\n",
    "print(df.head())"
   ]
  },
  {
   "cell_type": "code",
   "execution_count": null,
   "metadata": {},
   "outputs": [],
   "source": [
    "import re\n",
    "#Удаленные сообщения\n",
    "DeletedMsg = df[df['DelReason'] != '']\n",
    "#Создатель\n",
    "Creator = DeletedMsg['Creator'].apply(lambda x: x.split('/')[2] if x else x)\n",
    "#Кто удалил\n",
    "DeletedBy = DeletedMsg['DelReason'].apply(lambda x: re.sub('Сообщение удалено ', '', x).split()[0] if x else '')\n",
    "#Удаленные модераторами\n",
    "DeletedByMod = DeletedMsg[Creator != DeletedBy]"
   ]
  },
  {
   "cell_type": "code",
   "execution_count": null,
   "metadata": {},
   "outputs": [],
   "source": [
    "DeletedByMod.head()\n"
   ]
  },
  {
   "cell_type": "code",
   "execution_count": null,
   "metadata": {},
   "outputs": [],
   "source": [
    "MsgOfInterest = DeletedByMod.copy()"
   ]
  },
  {
   "cell_type": "code",
   "execution_count": null,
   "metadata": {},
   "outputs": [],
   "source": [
    "print(len(MsgOfInterest))\n",
    "for r in MsgOfInterest['DelReason']:\n",
    "    if 'по причине' not in r:\n",
    "        print(r)"
   ]
  },
  {
   "cell_type": "markdown",
   "metadata": {},
   "source": [
    "Всего одно сообщение, ну и ладно"
   ]
  },
  {
   "cell_type": "code",
   "execution_count": null,
   "metadata": {},
   "outputs": [],
   "source": [
    "MsgOfInterest = MsgOfInterest[MsgOfInterest['DelReason'].apply(lambda x: 'по причине' in x)].copy()"
   ]
  },
  {
   "cell_type": "code",
   "execution_count": null,
   "metadata": {},
   "outputs": [],
   "source": [
    "Reason = MsgOfInterest['DelReason'].apply(lambda x: x.split('по причине')[1])"
   ]
  },
  {
   "cell_type": "code",
   "execution_count": null,
   "metadata": {},
   "outputs": [],
   "source": [
    "for r in MsgOfInterest['DelReason']:\n",
    "    try:\n",
    "        a = r.split('по причине')[1].split()[-1].split('(')[1]\n",
    "    except Exception as e:\n",
    "        print(e)\n",
    "        print(r)"
   ]
  },
  {
   "cell_type": "code",
   "execution_count": null,
   "metadata": {},
   "outputs": [],
   "source": [
    "def get_score(x):\n",
    "    try:\n",
    "        score = int(x.split('по причине')[1].split()[-1].split('(')[1].split(')')[0])\n",
    "    except Exception as e:\n",
    "        print(e)\n",
    "        print(x)\n",
    "        score = 0\n",
    "    return score\n",
    "\n",
    "Score = MsgOfInterest['DelReason'].apply(get_score)"
   ]
  },
  {
   "cell_type": "code",
   "execution_count": null,
   "metadata": {},
   "outputs": [],
   "source": [
    "#Описания причин удаления, дальше будем размечать lookup table вручную\n",
    "import re\n",
    "\"\"\"\n",
    "reasons = ['7.1 Ответ на некорректное сообщение',\n",
    "           '3.2 Неверная кодировка',\n",
    "           '3.3 Некорректное форматирование',\n",
    "           '3.4 Пустое сообщение',\n",
    "           '4.2 Вызывающе неверная информация']\n",
    "\"\"\"\n",
    "\n",
    "reasons = []\n",
    "for r in Reason:\n",
    "    r = re.sub(r',', ';', r)\n",
    "    if r not in reasons:\n",
    "        reasons.append(r)\n",
    "reasons.sort()\n",
    "\n",
    "reason_lut = pd.DataFrame({'Reason':reasons, 'Class':[0]*len(reasons)})\n",
    "reason_lut.to_csv('data/markup/reasons_lut.csv', index=False, sep=',')"
   ]
  },
  {
   "cell_type": "code",
   "execution_count": null,
   "metadata": {},
   "outputs": [],
   "source": [
    "print(len(MsgOfInterest))\n",
    "print(len(Reason))\n",
    "print(len(Score))"
   ]
  },
  {
   "cell_type": "code",
   "execution_count": null,
   "metadata": {},
   "outputs": [],
   "source": [
    "MsgOfInterest['Reason'] = Reason.values\n",
    "MsgOfInterest['Score'] = Score.values\n",
    "MsgOfInterest.to_pickle('data/MsgOfInterestDataFrame.pkl')"
   ]
  },
  {
   "cell_type": "code",
   "execution_count": null,
   "metadata": {},
   "outputs": [],
   "source": []
  }
 ],
 "metadata": {
  "kernelspec": {
   "display_name": "Python 3",
   "language": "python",
   "name": "python3"
  },
  "language_info": {
   "codemirror_mode": {
    "name": "ipython",
    "version": 3
   },
   "file_extension": ".py",
   "mimetype": "text/x-python",
   "name": "python",
   "nbconvert_exporter": "python",
   "pygments_lexer": "ipython3",
   "version": "3.6.8"
  }
 },
 "nbformat": 4,
 "nbformat_minor": 2
}
