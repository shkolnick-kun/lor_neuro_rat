{
 "cells": [
  {
   "cell_type": "markdown",
   "metadata": {},
   "source": [
    "    This file is a part of the lor_neuro_rat project.\n",
    "    Copyright (C) 2019 anonimous\n",
    "\n",
    "    This program is free software: you can redistribute it and/or modify\n",
    "    it under the terms of the GNU General Public License as published by\n",
    "    the Free Software Foundation, either version 3 of the License, or\n",
    "    (at your option) any later version.\n",
    "\n",
    "    This program is distributed in the hope that it will be useful,\n",
    "    but WITHOUT ANY WARRANTY; without even the implied warranty of\n",
    "    MERCHANTABILITY or FITNESS FOR A PARTICULAR PURPOSE.  See the\n",
    "    GNU General Public License for more details.\n",
    "\n",
    "    You should have received a copy of the GNU General Public License\n",
    "    along with this program.  If not, see <http://www.gnu.org/licenses/>.\n",
    "\n",
    "    Please contact with me by E-mail: shkolnick.kun@gmail.com"
   ]
  },
  {
   "cell_type": "markdown",
   "metadata": {},
   "source": [
    "# Подготовка удаленных сообщений и причин удаления для разметки."
   ]
  },
  {
   "cell_type": "code",
   "execution_count": 23,
   "metadata": {},
   "outputs": [
    {
     "name": "stdout",
     "output_type": "stream",
     "text": [
      "                         TopId             MsgId                      Creator  \\\n",
      "0  /forum/development/14914210  comment-14914456  /people/zvezdochiot/profile   \n",
      "1  /forum/development/14878132  comment-14878851  /people/zvezdochiot/profile   \n",
      "2  /forum/development/14891775  comment-14891818  /people/zvezdochiot/profile   \n",
      "3      /forum/general/15012556  comment-15015113  /people/zvezdochiot/profile   \n",
      "4      /forum/desktop/14922772  comment-14922873  /people/zvezdochiot/profile   \n",
      "\n",
      "                            Time                                   SrcLink  \\\n",
      "0  2019-04-04T20:27:19.635+03:00  /forum/development/14914210?cid=14914453   \n",
      "1  2019-03-19T13:28:47.715+03:00  /forum/development/14878132?cid=14878244   \n",
      "2  2019-03-25T15:58:41.011+03:00  /forum/development/14891775?cid=14891804   \n",
      "3  2019-05-26T19:30:25.860+03:00      /forum/general/15012556?cid=15015099   \n",
      "4  2019-04-08T23:35:13.701+03:00      /forum/desktop/14922772?cid=14922866   \n",
      "\n",
      "                                           DelReason  \\\n",
      "0  Сообщение удалено zvezdochiot по причине уже н...   \n",
      "1  Сообщение удалено zvezdochiot по причине уже н...   \n",
      "2  Сообщение удалено zvezdochiot по причине уже н...   \n",
      "3  Сообщение удалено zvezdochiot по причине уже н...   \n",
      "4  Сообщение удалено zvezdochiot по причине уже н...   \n",
      "\n",
      "                                                 Txt  \\\n",
      "0  [Спасибо за линк., В «тему» перенеси, как «доч...   \n",
      "1                                                 []   \n",
      "2  [find: -exec requires an argument, Кое-что пот...   \n",
      "3                   [--r--, Етить, колотить. Права!]   \n",
      "4  [Была и возможно остается какая-то уязвимость,...   \n",
      "\n",
      "                                                Code  \\\n",
      "0                                                 []   \n",
      "1  [echo -n \"mypassword|код безопасников\" | sha51...   \n",
      "2  [find admin/(папка с файлами)/ -type f -atime ...   \n",
      "3  [$ sudo chmod -v 644 /usr/lib/x86_64-linux-gnu...   \n",
      "4                                                 []   \n",
      "\n",
      "                                           Quotes  \n",
      "0                              [Спасибо за линк.]  \n",
      "1                                              []  \n",
      "2              [find: -exec requires an argument]  \n",
      "3                                         [--r--]  \n",
      "4  [Была и возможно остается какая-то уязвимость]  \n"
     ]
    }
   ],
   "source": [
    "import pandas as pd\n",
    "#Загрузка\n",
    "df = pd.read_pickle('data/all_data_as_dataframe.pkl')\n",
    "#Сортировка\n",
    "df.sort_values(by=['DelReason'], inplace=True, ascending=False)\n",
    "df.reset_index(inplace=True, drop=True)\n",
    "\n",
    "print(df.head())"
   ]
  },
  {
   "cell_type": "code",
   "execution_count": 24,
   "metadata": {},
   "outputs": [],
   "source": [
    "import re\n",
    "#Удаленные сообщения\n",
    "DeletedMsg = df[df['DelReason'] != '']\n",
    "#Создатель\n",
    "Creator = DeletedMsg['Creator'].apply(lambda x: x.split('/')[2] if x else x)\n",
    "#Кто удалил\n",
    "DeletedBy = DeletedMsg['DelReason'].apply(lambda x: re.sub('Сообщение удалено ', '', x).split()[0] if x else '')\n",
    "#Удаленные модераторами\n",
    "DeletedByMod = DeletedMsg[Creator != DeletedBy]"
   ]
  },
  {
   "cell_type": "code",
   "execution_count": 25,
   "metadata": {},
   "outputs": [
    {
     "data": {
      "text/html": [
       "<div>\n",
       "<style scoped>\n",
       "    .dataframe tbody tr th:only-of-type {\n",
       "        vertical-align: middle;\n",
       "    }\n",
       "\n",
       "    .dataframe tbody tr th {\n",
       "        vertical-align: top;\n",
       "    }\n",
       "\n",
       "    .dataframe thead th {\n",
       "        text-align: right;\n",
       "    }\n",
       "</style>\n",
       "<table border=\"1\" class=\"dataframe\">\n",
       "  <thead>\n",
       "    <tr style=\"text-align: right;\">\n",
       "      <th></th>\n",
       "      <th>TopId</th>\n",
       "      <th>MsgId</th>\n",
       "      <th>Creator</th>\n",
       "      <th>Time</th>\n",
       "      <th>SrcLink</th>\n",
       "      <th>DelReason</th>\n",
       "      <th>Txt</th>\n",
       "      <th>Code</th>\n",
       "      <th>Quotes</th>\n",
       "    </tr>\n",
       "  </thead>\n",
       "  <tbody>\n",
       "    <tr>\n",
       "      <th>159</th>\n",
       "      <td>/forum/admin/14745764</td>\n",
       "      <td>comment-14746925</td>\n",
       "      <td></td>\n",
       "      <td>2019-01-19T13:51:36.077+03:00</td>\n",
       "      <td></td>\n",
       "      <td>Сообщение удалено unclown по причине  (0)</td>\n",
       "      <td>[актуальный список на сайте роскомсвободы, мож...</td>\n",
       "      <td>[]</td>\n",
       "      <td>[]</td>\n",
       "    </tr>\n",
       "    <tr>\n",
       "      <th>160</th>\n",
       "      <td>/forum/talks/14747012</td>\n",
       "      <td>comment-14747032</td>\n",
       "      <td></td>\n",
       "      <td>2019-01-19T14:35:14.317+03:00</td>\n",
       "      <td></td>\n",
       "      <td>Сообщение удалено unclown по причине  (0)</td>\n",
       "      <td>[ну надо сказать, с BBOS у них получилось]</td>\n",
       "      <td>[]</td>\n",
       "      <td>[]</td>\n",
       "    </tr>\n",
       "    <tr>\n",
       "      <th>161</th>\n",
       "      <td>/forum/talks/14743781</td>\n",
       "      <td>comment-14743795</td>\n",
       "      <td></td>\n",
       "      <td>2019-01-18T00:45:06.955+03:00</td>\n",
       "      <td></td>\n",
       "      <td>Сообщение удалено unclown по причине  (0)</td>\n",
       "      <td>[]</td>\n",
       "      <td>[echo sha|shasum\\n355af72b918b1409a3b0ed2002bc...</td>\n",
       "      <td>[]</td>\n",
       "    </tr>\n",
       "    <tr>\n",
       "      <th>162</th>\n",
       "      <td>/forum/talks/14715993</td>\n",
       "      <td>comment-14716275</td>\n",
       "      <td></td>\n",
       "      <td>2019-01-06T01:05:29.571+03:00</td>\n",
       "      <td>/forum/talks/14715993?cid=14716263</td>\n",
       "      <td>Сообщение удалено unclown по причине  (0)</td>\n",
       "      <td>[ну да, F-150 — того же класса, что X5, без ба...</td>\n",
       "      <td>[]</td>\n",
       "      <td>[]</td>\n",
       "    </tr>\n",
       "    <tr>\n",
       "      <th>240</th>\n",
       "      <td>/forum/development/14918675</td>\n",
       "      <td>comment-14926479</td>\n",
       "      <td></td>\n",
       "      <td>2019-04-10T22:14:03.501+03:00</td>\n",
       "      <td>/forum/development/14918675?cid=14926444</td>\n",
       "      <td>Сообщение удалено tailgunner по причине Клоуна...</td>\n",
       "      <td>[Возвращаясь к пизоморфным трифункторам, легко...</td>\n",
       "      <td>[]</td>\n",
       "      <td>[]</td>\n",
       "    </tr>\n",
       "  </tbody>\n",
       "</table>\n",
       "</div>"
      ],
      "text/plain": [
       "                           TopId             MsgId Creator  \\\n",
       "159        /forum/admin/14745764  comment-14746925           \n",
       "160        /forum/talks/14747012  comment-14747032           \n",
       "161        /forum/talks/14743781  comment-14743795           \n",
       "162        /forum/talks/14715993  comment-14716275           \n",
       "240  /forum/development/14918675  comment-14926479           \n",
       "\n",
       "                              Time                                   SrcLink  \\\n",
       "159  2019-01-19T13:51:36.077+03:00                                             \n",
       "160  2019-01-19T14:35:14.317+03:00                                             \n",
       "161  2019-01-18T00:45:06.955+03:00                                             \n",
       "162  2019-01-06T01:05:29.571+03:00        /forum/talks/14715993?cid=14716263   \n",
       "240  2019-04-10T22:14:03.501+03:00  /forum/development/14918675?cid=14926444   \n",
       "\n",
       "                                             DelReason  \\\n",
       "159          Сообщение удалено unclown по причине  (0)   \n",
       "160          Сообщение удалено unclown по причине  (0)   \n",
       "161          Сообщение удалено unclown по причине  (0)   \n",
       "162          Сообщение удалено unclown по причине  (0)   \n",
       "240  Сообщение удалено tailgunner по причине Клоуна...   \n",
       "\n",
       "                                                   Txt  \\\n",
       "159  [актуальный список на сайте роскомсвободы, мож...   \n",
       "160         [ну надо сказать, с BBOS у них получилось]   \n",
       "161                                                 []   \n",
       "162  [ну да, F-150 — того же класса, что X5, без ба...   \n",
       "240  [Возвращаясь к пизоморфным трифункторам, легко...   \n",
       "\n",
       "                                                  Code Quotes  \n",
       "159                                                 []     []  \n",
       "160                                                 []     []  \n",
       "161  [echo sha|shasum\\n355af72b918b1409a3b0ed2002bc...     []  \n",
       "162                                                 []     []  \n",
       "240                                                 []     []  "
      ]
     },
     "execution_count": 25,
     "metadata": {},
     "output_type": "execute_result"
    }
   ],
   "source": [
    "DeletedByMod.head()\n"
   ]
  },
  {
   "cell_type": "code",
   "execution_count": 26,
   "metadata": {},
   "outputs": [],
   "source": [
    "MsgOfInterest = DeletedByMod.copy()\n",
    "\n",
    "Reason = MsgOfInterest['DelReason'].apply(lambda x: x.split('по причине')[1])\n",
    "Score = MsgOfInterest['DelReason'].apply(lambda x: int(x.split('по причине')[1].split()[-1].split('(')[1].split(')')[0]))"
   ]
  },
  {
   "cell_type": "code",
   "execution_count": 27,
   "metadata": {},
   "outputs": [],
   "source": [
    "#Описания причин удаления, дальше будем размечать lookup table вручную\n",
    "reasons = []\n",
    "for r in Reason:\n",
    "    if r not in reasons:\n",
    "        reasons.append(r)\n",
    "reasons.sort()\n",
    "\n",
    "reason_lut = pd.DataFrame({'Reason':reasons, 'Class':[0]*len(reasons)})\n",
    "reason_lut.to_csv('data/reasons_lut.csv', index=False, sep=';')"
   ]
  },
  {
   "cell_type": "code",
   "execution_count": 28,
   "metadata": {},
   "outputs": [
    {
     "name": "stdout",
     "output_type": "stream",
     "text": [
      "6360\n",
      "6360\n",
      "6360\n"
     ]
    }
   ],
   "source": [
    "print(len(MsgOfInterest))\n",
    "print(len(Reason))\n",
    "print(len(Score))"
   ]
  },
  {
   "cell_type": "code",
   "execution_count": 29,
   "metadata": {},
   "outputs": [],
   "source": [
    "MsgOfInterest['Reason'] = Reason.values\n",
    "MsgOfInterest['Score'] = Score.values\n",
    "MsgOfInterest.to_pickle('data/MsgOfInterestDataFrame.pkl')"
   ]
  }
 ],
 "metadata": {
  "kernelspec": {
   "display_name": "Python 3",
   "language": "python",
   "name": "python3"
  },
  "language_info": {
   "codemirror_mode": {
    "name": "ipython",
    "version": 3
   },
   "file_extension": ".py",
   "mimetype": "text/x-python",
   "name": "python",
   "nbconvert_exporter": "python",
   "pygments_lexer": "ipython3",
   "version": "3.7.1"
  }
 },
 "nbformat": 4,
 "nbformat_minor": 2
}
